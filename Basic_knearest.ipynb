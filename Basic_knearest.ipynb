{
 "cells": [
  {
   "cell_type": "code",
   "execution_count": 2,
   "metadata": {
    "collapsed": false
   },
   "outputs": [],
   "source": [
    "import numpy as np\n",
    "import matplotlib.pyplot as plt\n",
    "from matplotlib import style\n",
    "import warnings\n",
    "from math import sqrt\n",
    "from collections import Counter\n",
    "style.use('fivethirtyeight')\n",
    "\n",
    "#setup data\n",
    "dataset = {'k':[[1,2],\n",
    "                [2,3],\n",
    "                [3,1]],\n",
    "           'r':[[6,5],\n",
    "                [7,7],\n",
    "                [8,6]]}#list in a list structure\n",
    "new_features = [5,7]\n",
    "\n",
    "#plotting\n",
    "[[plt.scatter(ii[0],ii[1],s=100,color=i) for ii in dataset[i]] for i in dataset]\n",
    "plt.scatter(new_features[0], new_features[1], s=100)\n",
    "\n",
    "plt.show()\n",
    "#end plotting\n",
    "\n",
    "def k_nearest_neighbors(data, predict, k=3): #train data, predict data, nearest k\n",
    "    if len(data) >= k:\n",
    "        warnings.warn('K is set to a value less than total voting groups!')\n",
    "    \n",
    "    distances = []\n",
    "    for group in data: #go through all lists: list k and list r in dataset\n",
    "        for features in data[group]: #features are the coordinates\n",
    "            euclidean_distance = sqrt( (features[0]-predict[0])**2 + (features[1]-predict[1])**2 )\n",
    "            distances.append([euclidean_distance,group]) #append distance array, note that the group is linked to the distance\n",
    "    \n",
    "    votes = [i[1] for i in sorted(distances)[:k]] #sort and find the k nearest ones\n",
    "    vote_result = Counter(votes).most_common(1)[0][0] #setup the counter in the array votes, return only the type\n",
    "\n",
    "    return vote_result\n",
    "\n",
    "result = k_nearest_neighbors(dataset, new_features)\n"
   ]
  },
  {
   "cell_type": "code",
   "execution_count": null,
   "metadata": {
    "collapsed": true
   },
   "outputs": [],
   "source": []
  }
 ],
 "metadata": {
  "kernelspec": {
   "display_name": "Python 2",
   "language": "python",
   "name": "python2"
  },
  "language_info": {
   "codemirror_mode": {
    "name": "ipython",
    "version": 2
   },
   "file_extension": ".py",
   "mimetype": "text/x-python",
   "name": "python",
   "nbconvert_exporter": "python",
   "pygments_lexer": "ipython2",
   "version": "2.7.12"
  }
 },
 "nbformat": 4,
 "nbformat_minor": 1
}
