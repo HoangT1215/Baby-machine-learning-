{
 "cells": [
  {
   "cell_type": "code",
   "execution_count": 7,
   "metadata": {
    "collapsed": false
   },
   "outputs": [
    {
     "name": "stdout",
     "output_type": "stream",
     "text": [
      "[0 0]\n"
     ]
    }
   ],
   "source": [
    "\n",
    "#Tryout some Naive Bayes\n",
    "import random\n",
    "from sklearn.naive_bayes import GaussianNB\n",
    "\n",
    "size = 20\n",
    "k = 15\n",
    "\n",
    "#data-gen\n",
    "x = []\n",
    "y = []\n",
    "\n",
    "for i in range(size):\n",
    "    a = random.randint(0,k)\n",
    "    b = random.randint(0,k)\n",
    "    while (a,b) in x:\n",
    "        a = random.randint(0,k)\n",
    "        b = random.randint(0,k)\n",
    "    x.append([a,b])\n",
    "    y.append(random.randint(0,1))\n",
    "\n",
    "#Create a Gaussian Classifier\n",
    "model = GaussianNB()\n",
    "\n",
    "# Train the model using the training sets \n",
    "model.fit(x, y)\n",
    "\n",
    "#Predict Output \n",
    "predicted= model.predict([[1,2],[3,4]])\n",
    "print predicted\n",
    "\n",
    "#Interestingly, the output return the same value of the pair"
   ]
  },
  {
   "cell_type": "code",
   "execution_count": null,
   "metadata": {
    "collapsed": true
   },
   "outputs": [],
   "source": []
  }
 ],
 "metadata": {
  "kernelspec": {
   "display_name": "Python 2",
   "language": "python",
   "name": "python2"
  },
  "language_info": {
   "codemirror_mode": {
    "name": "ipython",
    "version": 2
   },
   "file_extension": ".py",
   "mimetype": "text/x-python",
   "name": "python",
   "nbconvert_exporter": "python",
   "pygments_lexer": "ipython2",
   "version": "2.7.12"
  }
 },
 "nbformat": 4,
 "nbformat_minor": 1
}
